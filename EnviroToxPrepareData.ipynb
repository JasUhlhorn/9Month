{
  "nbformat": 4,
  "nbformat_minor": 0,
  "metadata": {
    "colab": {
      "name": "EnviroToxPrepareData.ipynb",
      "provenance": [],
      "collapsed_sections": [],
      "toc_visible": true
    },
    "kernelspec": {
      "name": "python3",
      "display_name": "Python 3"
    },
    "language_info": {
      "name": "python"
    }
  },
  "cells": [
    {
      "cell_type": "markdown",
      "source": [
        "## EnviroTox"
      ],
      "metadata": {
        "id": "8Dy28CBGwbGH"
      }
    },
    {
      "cell_type": "markdown",
      "source": [
        "### Set up"
      ],
      "metadata": {
        "id": "9TRWAnmt7h9f"
      }
    },
    {
      "cell_type": "markdown",
      "source": [
        "upload envirotox data \n",
        "\n",
        "upload dictionary\n",
        "\n",
        "xml"
      ],
      "metadata": {
        "id": "a3f28iJSxQFY"
      }
    },
    {
      "cell_type": "code",
      "source": [
        "file_ecotox='envirotox_20220725142944.xlsx'\n",
        "file_dict='DictionaryEcosarCategories.txt'\n",
        "dest_env_all='envirotoxall.csv'\n",
        "dest_env_single='envirotoxRT.csv'\n",
        "xml_file = 'descriptors.xml'"
      ],
      "metadata": {
        "id": "UWwvmpu6yZ5_"
      },
      "execution_count": null,
      "outputs": []
    },
    {
      "cell_type": "code",
      "source": [
        "!pip install pubchempy"
      ],
      "metadata": {
        "id": "ljJIw3c6VcBn"
      },
      "execution_count": null,
      "outputs": []
    },
    {
      "cell_type": "code",
      "source": [
        "!pip install padelpy"
      ],
      "metadata": {
        "id": "UC9y_jSVngPt"
      },
      "execution_count": null,
      "outputs": []
    },
    {
      "cell_type": "code",
      "source": [
        "import pandas as pd\n",
        "import json\n",
        "import numpy as np\n",
        "import pubchempy as pcp\n",
        "from padelpy import padeldescriptor\n",
        "from scipy.stats import gmean\n",
        "from sklearn.model_selection import train_test_split"
      ],
      "metadata": {
        "id": "7gMx0WPZxeyP"
      },
      "execution_count": null,
      "outputs": []
    },
    {
      "cell_type": "code",
      "source": [
        "df_test=pd.read_excel(file_ecotox, sheet_name=0) # experiments\n",
        "df_chem=pd.read_excel(file_ecotox, sheet_name=1) # chemicals"
      ],
      "metadata": {
        "id": "FtFJDnpFx_Nm"
      },
      "execution_count": null,
      "outputs": []
    },
    {
      "cell_type": "code",
      "source": [
        "with open(file_dict) as f:\n",
        "    dict_text = f.read()\n",
        "dict_collapsed = json.loads(dict_text)"
      ],
      "metadata": {
        "id": "0EchoImXyIb-"
      },
      "execution_count": null,
      "outputs": []
    },
    {
      "cell_type": "code",
      "source": [
        "# drop rows associated to metalgroup\n",
        "df_test=df_test[~df_test.CAS.astype(str).str.contains(\"Metalgrp\")]\n",
        "df_chem=df_chem[~df_chem.CAS.astype(str).str.contains(\"Metalgrp\")]"
      ],
      "metadata": {
        "id": "nJlek9cUyQJP"
      },
      "execution_count": null,
      "outputs": []
    },
    {
      "cell_type": "code",
      "source": [
        "# function removing the compounds with ecosar class inorganic compound and translate Ecosar category to collapsed ecosar category\n",
        "def split_and_translate_and_filter(class_eco):\n",
        "  try:\n",
        "    # split ecosar classes if multiple categories given and return 'Inorganic Compound' if one of the categories\n",
        "    class_eco=[x.strip() for x in class_eco.replace('|', '; ').split(';')]\n",
        "    if 'Inorganic Compound' in class_eco:\n",
        "      return 'Inorganic Compound'\n",
        "    else:\n",
        "      # use first entry (follwoing: EnviroTox database guide) \n",
        "      # disregard case sensitivity\n",
        "      class_eco=class_eco[0].upper()\n",
        "      # translate to collapsed category using dictionary\n",
        "      collapsed_class=dict_collapsed.get(class_eco)\n",
        "      return collapsed_class\n",
        "  except:\n",
        "    # if already NaN\n",
        "    return np.NaN"
      ],
      "metadata": {
        "id": "nznnfKKOq4ut"
      },
      "execution_count": null,
      "outputs": []
    },
    {
      "cell_type": "code",
      "source": [
        "# map ECOSAR classification to the collapsed category according to the dictionary defined and save in new column\n",
        "df_chem['ECOSAR classification – collapsed']=df_chem['ECOSAR classification'].map(split_and_translate_and_filter)"
      ],
      "metadata": {
        "id": "eE5mWL3AyByN"
      },
      "execution_count": null,
      "outputs": []
    },
    {
      "cell_type": "code",
      "source": [
        "# merge exposure test and chemical data frame\n",
        "df_combined=df_test.merge(df_chem, left_on='CAS', right_on='CAS', how='left')"
      ],
      "metadata": {
        "id": "5leTY_kYrK8t"
      },
      "execution_count": null,
      "outputs": []
    },
    {
      "cell_type": "code",
      "source": [
        "# remove inorganics and heavy metals\n",
        "df_combined=df_combined[(df_combined['Heavy Metals']==0.0) & (df_combined['ECOSAR classification – collapsed']!='Inorganic Compound')]"
      ],
      "metadata": {
        "id": "QMcMn7gxrfLk"
      },
      "execution_count": null,
      "outputs": []
    },
    {
      "cell_type": "code",
      "source": [
        "# keep only experiment duration 96h\n",
        "df_combined= df_combined[df_combined['Duration (hours)']==96.0]"
      ],
      "metadata": {
        "id": "Cxj5Im-0yVjQ"
      },
      "execution_count": null,
      "outputs": []
    },
    {
      "cell_type": "code",
      "source": [
        "df_combined= df_combined[['CAS', 'Chemical name_x', 'Latin name', 'Effect value', 'Test statistic','Duration (hours)',\n",
        "       'Effect is 5X above water solubility', 'Canonical SMILES']]"
      ],
      "metadata": {
        "id": "6Y5SYEepzGKf"
      },
      "execution_count": null,
      "outputs": []
    },
    {
      "cell_type": "code",
      "source": [
        "df_combined.rename(columns={\"Chemical name_x\": \"Chemical_name\", \"Effect value\": \"Effect_value_(mgL-1)\"}, inplace=True)"
      ],
      "metadata": {
        "id": "uQwxd3N7zcIX"
      },
      "execution_count": null,
      "outputs": []
    },
    {
      "cell_type": "code",
      "source": [
        "df_combined.to_csv(dest_env_all)"
      ],
      "metadata": {
        "id": "QhgERCXi0LuO"
      },
      "execution_count": null,
      "outputs": []
    },
    {
      "cell_type": "code",
      "source": [
        "df_single=df_combined[df_combined['Latin name']=='Oncorhynchus mykiss']"
      ],
      "metadata": {
        "id": "pspvsYdI0alm"
      },
      "execution_count": null,
      "outputs": []
    },
    {
      "cell_type": "code",
      "source": [
        "df_single.to_csv(dest_env_single)"
      ],
      "metadata": {
        "id": "OvG1QGEs0m8Q"
      },
      "execution_count": null,
      "outputs": []
    },
    {
      "cell_type": "markdown",
      "source": [
        "### PubChem"
      ],
      "metadata": {
        "id": "_FcMbDTy00ir"
      }
    },
    {
      "cell_type": "code",
      "source": [
        "def pubchem_get_compounds(df):\n",
        "  dicts_pc = {}\n",
        "  error_cas=[]\n",
        "  keys = df['Canonical SMILES'].unique()\n",
        "  for i in keys:\n",
        "          try:\n",
        "            c = pcp.get_compounds(i,'smiles')\n",
        "            if len(c)!=1:\n",
        "              #print(i, c)\n",
        "              error_cas.append(i)\n",
        "            else:\n",
        "              c=c[0]\n",
        "              value=[c.cid,c.iupac_name,c.canonical_smiles]\n",
        "              dicts_pc[i] = value\n",
        "          except:\n",
        "            error_cas.append(i)\n",
        "  return dicts_pc, error_cas"
      ],
      "metadata": {
        "id": "VMJaDEOhZf4C"
      },
      "execution_count": null,
      "outputs": []
    },
    {
      "cell_type": "code",
      "source": [
        "dict_combined, error_cas_combined=pubchem_get_compounds(df_combined)\n",
        "dict_single, error_cas_single=pubchem_get_compounds(df_single)"
      ],
      "metadata": {
        "id": "Xr1jQSHs1_w_"
      },
      "execution_count": null,
      "outputs": []
    },
    {
      "cell_type": "code",
      "source": [
        "df_combined_pub=pd.DataFrame.from_dict(dict_combined,orient = 'index', columns=['cid','iupac_name','canonical_smiles'])"
      ],
      "metadata": {
        "id": "bsVh_oRLm1aQ"
      },
      "execution_count": null,
      "outputs": []
    },
    {
      "cell_type": "code",
      "source": [
        "df_single_pub=pd.DataFrame.from_dict(dict_single,orient = 'index', columns=['cid','iupac_name','canonical_smiles'])"
      ],
      "metadata": {
        "id": "Mx7Dov6h3ge2"
      },
      "execution_count": null,
      "outputs": []
    },
    {
      "cell_type": "code",
      "source": [
        "def pubchem_get_sdf(df,dest_name):\n",
        "  cids=df.cid.unique()\n",
        "  !mkdir $dest_name\n",
        "  for cid in cids:\n",
        "    c=str(cid).split('.')[0]\n",
        "    url='https://pubchem.ncbi.nlm.nih.gov/rest/pug/compound/cid/' + c +'/SDF?record_type=3d'\n",
        "    dest=dest_name+'/'+c+'.sdf'\n",
        "    !wget -O $dest $url\n",
        "  \n",
        "\n"
      ],
      "metadata": {
        "id": "WRM1Ex0xPTL8"
      },
      "execution_count": null,
      "outputs": []
    },
    {
      "cell_type": "code",
      "source": [
        "pubchem_get_sdf(df_combined_pub, 'combined_envirotox_sdf')"
      ],
      "metadata": {
        "id": "DEPFbl1qBa69"
      },
      "execution_count": null,
      "outputs": []
    },
    {
      "cell_type": "code",
      "source": [
        "!zip -r /content/combined_envirotox_sdf_dir.zip /content/combined_envirotox_sdf"
      ],
      "metadata": {
        "id": "8uHfzHNtVWh7"
      },
      "execution_count": null,
      "outputs": []
    },
    {
      "cell_type": "code",
      "source": [
        "pubchem_get_sdf(df_single_pub, 'single_envirotox_sdf')"
      ],
      "metadata": {
        "id": "1IyCb9hmBn5t"
      },
      "execution_count": null,
      "outputs": []
    },
    {
      "cell_type": "code",
      "source": [
        "!zip -r /content/single_envirotox_sdf_dir.zip /content/single_envirotox_sdf"
      ],
      "metadata": {
        "id": "DC0BIrxGFpWl"
      },
      "execution_count": null,
      "outputs": []
    },
    {
      "cell_type": "code",
      "source": [
        "padeldescriptor(mol_dir='combined_envirotox_sdf', d_file='envirotox_combined_input.csv', d_2d=True, d_3d=True, fingerprints =True, descriptortypes=xml_file, retainorder=True, log=True, maxruntime=100000) \n",
        "# call the function padeldescriptors for test\n",
        "padeldescriptor(mol_dir='single_envirotox_sdf', d_file='envirotox_single_input.csv', d_2d=True, d_3d=True, fingerprints =True, descriptortypes=xml_file, retainorder=True, log=True, maxruntime=100000) "
      ],
      "metadata": {
        "id": "DSj8-FZNno2s"
      },
      "execution_count": null,
      "outputs": []
    },
    {
      "cell_type": "code",
      "source": [
        "df_combined_pub['cs']=df_combined_pub.index"
      ],
      "metadata": {
        "id": "JLNkwbAQKPsY"
      },
      "execution_count": null,
      "outputs": []
    },
    {
      "cell_type": "code",
      "source": [
        "df_combined_meta=pd.merge(df_combined_pub, df_combined, left_on='cs', right_on='Canonical SMILES')[['cid','iupac_name','cs',\t'CAS',\t'Chemical_name',\t'Latin name',\t'Effect_value_(mgL-1)',\t'Test statistic',\t'Duration (hours)',\t'Effect is 5X above water solubility']]"
      ],
      "metadata": {
        "id": "MPx5MUDKKMRh"
      },
      "execution_count": null,
      "outputs": []
    },
    {
      "cell_type": "code",
      "source": [
        "df_single_pub['cs']=df_single_pub.index"
      ],
      "metadata": {
        "id": "8sRfX2bjLewm"
      },
      "execution_count": null,
      "outputs": []
    },
    {
      "cell_type": "code",
      "source": [
        "df_single_meta=pd.merge(df_single_pub, df_single, left_on='cs', right_on='Canonical SMILES')[['cid','iupac_name','cs',\t'CAS',\t'Chemical_name',\t'Latin name',\t'Effect_value_(mgL-1)',\t'Test statistic',\t'Duration (hours)',\t'Effect is 5X above water solubility']]"
      ],
      "metadata": {
        "id": "uWYrhXeJLewm"
      },
      "execution_count": null,
      "outputs": []
    },
    {
      "cell_type": "code",
      "source": [
        "df_combined_meta.to_csv('df_combined_meta_envtox.csv')\n",
        "df_single_meta.to_csv('df_single_meta_envtox.csv')"
      ],
      "metadata": {
        "id": "32O2WgKZC_rA"
      },
      "execution_count": null,
      "outputs": []
    },
    {
      "cell_type": "code",
      "source": [
        "df_combined_meta= pd.read_csv('df_combined_meta_envtox.csv', index_col=0)\n",
        "df_single_meta= pd.read_csv('df_single_meta_envtox.csv', index_col=0)"
      ],
      "metadata": {
        "id": "bJbpGXswjm2M"
      },
      "execution_count": null,
      "outputs": []
    },
    {
      "cell_type": "markdown",
      "source": [
        "### Target\n",
        "Classes\n",
        "\n",
        "Multiple instances:\n",
        "\n",
        "Class majority vote\n",
        "\n",
        "Regression geometric mean"
      ],
      "metadata": {
        "id": "jU_Q6pDz7lS5"
      }
    },
    {
      "cell_type": "code",
      "execution_count": null,
      "metadata": {
        "id": "Yh31gIBsrqyH"
      },
      "outputs": [],
      "source": [
        "def majority_vote_class(df, multiple_species):\n",
        "  sort_order =  ['Very highly toxic', 'Highly toxic', 'Moderately toxic', 'Slightly toxic','Nontoxic' ]\n",
        "  # more toxic category prefered if same count\n",
        "  if multiple_species:\n",
        "    df = df.groupby(['cs','cid','Latin name'])['Classification'].agg(lambda x: sorted(pd.Series.mode(x),key=lambda val: sort_order.index(val))[0]).to_frame()\n",
        "  else:\n",
        "    df = df.groupby(['cs','cid'])['Classification'].agg(lambda x: sorted(pd.Series.mode(x),key=lambda val: sort_order.index(val))[0]).to_frame()\n",
        "  \n",
        "  return df\n"
      ]
    },
    {
      "cell_type": "code",
      "source": [
        "def geometric_mean_target(df, multiple_species):\n",
        "  if multiple_species:\n",
        "    df = df.groupby(['cs','cid','Latin name'])['Effect_value_(mgL-1)'].apply(gmean) # all same unit: mg/L\n",
        "  else:\n",
        "    df = df.groupby(['cs','cid'])['Effect_value_(mgL-1)'].apply(gmean)\n",
        "  return df"
      ],
      "metadata": {
        "id": "8VCmoPDk9PBy"
      },
      "execution_count": null,
      "outputs": []
    },
    {
      "cell_type": "code",
      "execution_count": null,
      "metadata": {
        "id": "WNpfxTSAHjcp"
      },
      "outputs": [],
      "source": [
        "def set_class_targets(df, multiple_species=False):\n",
        "    #https://www.epa.gov/pesticide-science-and-assessing-pesticide-risks/technical-overview-ecological-risk-assessment-0\n",
        "    conditions = [\n",
        "    (df['Effect_value_(mgL-1)'] < 0.1),\n",
        "    (df['Effect_value_(mgL-1)'] >= 0.1) & (df['Effect_value_(mgL-1)'] <= 1),\n",
        "    (df['Effect_value_(mgL-1)'] > 1) & (df['Effect_value_(mgL-1)'] <= 10),\n",
        "    (df['Effect_value_(mgL-1)'] > 10) & (df['Effect_value_(mgL-1)'] <= 100),\n",
        "    (df['Effect_value_(mgL-1)'] > 100)\n",
        "    ] \n",
        "    values = ['Very highly toxic', 'Highly toxic', 'Moderately toxic', 'Slightly toxic','Nontoxic' ]\n",
        "\n",
        "    df_reg=geometric_mean_target(df, multiple_species)\n",
        "    df['Classification'] = np.select(conditions, values)\n",
        "\n",
        "    df = majority_vote_class(df, multiple_species)\n",
        "\n",
        "\n",
        "    #binary classification\n",
        "    df['classification_binary'] = np.where(\n",
        "        (df['Classification'] == 'Nontoxic') | (df['Classification'] == 'Slightly toxic'), 0, 1) # binary\n",
        "    \n",
        "    #ternary classification\n",
        "    df['classification_ternary']=np.nan\n",
        "    df['classification_ternary'].loc[(df['Classification'] == 'Nontoxic') | (df['Classification'] == 'Slightly toxic')] = 0\n",
        "    df['classification_ternary'].loc[(df['Classification'] == 'Moderately toxic')] = 1\n",
        "    df['classification_ternary'].loc[(df['Classification'] == 'Highly toxic') | (df['Classification'] == 'Very highly toxic')] = 2\n",
        "    \n",
        "    return df, df_reg\n",
        "\n"
      ]
    },
    {
      "cell_type": "code",
      "source": [
        "df_combined_class,df_combined_reg=set_class_targets(df_combined_meta, multiple_species=True)\n",
        "df_combined_target=pd.merge(df_combined_class,df_combined_reg, on=['cs','cid','Latin name'])"
      ],
      "metadata": {
        "id": "xz_PmPG8-IWB"
      },
      "execution_count": null,
      "outputs": []
    },
    {
      "cell_type": "code",
      "source": [
        "df_single_class,df_single_reg=set_class_targets(df_single_meta)\n",
        "df_single_target=pd.merge(df_single_class,df_single_reg, on=['cs','cid'])"
      ],
      "metadata": {
        "id": "0PTSI4YM-sQB"
      },
      "execution_count": null,
      "outputs": []
    },
    {
      "cell_type": "markdown",
      "source": [
        "### Combine input and target"
      ],
      "metadata": {
        "id": "u2KWuvs77xnB"
      }
    },
    {
      "cell_type": "code",
      "source": [
        "df_combined_input=pd.read_csv('envirotox_combined_input.csv')"
      ],
      "metadata": {
        "id": "J2v5iSLq_3mR"
      },
      "execution_count": null,
      "outputs": []
    },
    {
      "cell_type": "code",
      "source": [
        "df_single_input=pd.read_csv('envirotox_single_input.csv')"
      ],
      "metadata": {
        "id": "r8DObGq2MzuA"
      },
      "execution_count": null,
      "outputs": []
    },
    {
      "cell_type": "code",
      "source": [
        "df_combined_all=pd.merge(df_combined_target.reset_index(),df_combined_input, left_on='cid', right_on='Name', how='left')"
      ],
      "metadata": {
        "id": "pRCYxIjQAKSS"
      },
      "execution_count": null,
      "outputs": []
    },
    {
      "cell_type": "code",
      "source": [
        "df_single_all=pd.merge(df_single_target.reset_index(),df_single_input, left_on='cid', right_on='Name')"
      ],
      "metadata": {
        "id": "W__9gZe6My6X"
      },
      "execution_count": null,
      "outputs": []
    },
    {
      "cell_type": "code",
      "source": [
        "df_single_all.to_csv('df_single_envtox_all.csv')"
      ],
      "metadata": {
        "id": "DEb2cBiKND6H"
      },
      "execution_count": null,
      "outputs": []
    },
    {
      "cell_type": "markdown",
      "source": [
        "### Add identifier of target species"
      ],
      "metadata": {
        "id": "9gyMJ9AYAvf4"
      }
    },
    {
      "cell_type": "code",
      "source": [
        "df_combined_all['target_species'] = 0\n",
        "df_combined_all.loc[df_combined_all['Latin name'] =='Oncorhynchus mykiss', 'target_species'] = 1"
      ],
      "metadata": {
        "id": "BZhJzea1pa4d"
      },
      "execution_count": null,
      "outputs": []
    },
    {
      "cell_type": "code",
      "source": [
        "df_combined_all.to_csv('df_combined_envtox_all.csv')"
      ],
      "metadata": {
        "id": "ofr6Qm09qFqT"
      },
      "execution_count": null,
      "outputs": []
    },
    {
      "cell_type": "markdown",
      "source": [
        "### Train test split\n",
        "\n",
        "20-80 to have comparison with li and Jimeng Wu for etc.\n",
        "The test split used for combined is the same as for the single species"
      ],
      "metadata": {
        "id": "PFeIqntp_Wyn"
      }
    },
    {
      "cell_type": "code",
      "source": [
        "df_single_train, df_single_test = train_test_split(df_single_all, test_size=0.2, random_state=42)"
      ],
      "metadata": {
        "id": "UvYLmBxLAkHg"
      },
      "execution_count": null,
      "outputs": []
    },
    {
      "cell_type": "code",
      "source": [
        "test_compounds_single=df_single_test.cs.values"
      ],
      "metadata": {
        "id": "dLU-CPC1gtNi"
      },
      "execution_count": null,
      "outputs": []
    },
    {
      "cell_type": "code",
      "source": [
        "df_combined_train=df_combined_all[~((df_combined_all['target_species']==1) & (df_combined_all.cs.isin(test_compounds_single)))]"
      ],
      "metadata": {
        "id": "Z-4XTr_LhKRj"
      },
      "execution_count": null,
      "outputs": []
    },
    {
      "cell_type": "code",
      "source": [
        "df_combined_test=df_combined_all[(df_combined_all['target_species']==1) & (df_combined_all.cs.isin(test_compounds_single))]"
      ],
      "metadata": {
        "id": "JFxJ0_DSf5ZE"
      },
      "execution_count": null,
      "outputs": []
    },
    {
      "cell_type": "code",
      "source": [
        "df_combined_train.to_csv('envtox_combined_train.csv')\n",
        "df_combined_test.to_csv('envtox_combined_test.csv')\n",
        "df_single_train.to_csv('envtox_single_train.csv')\n",
        "df_single_test.to_csv('envtox_single_test.csv')"
      ],
      "metadata": {
        "id": "419xKNpput-T"
      },
      "execution_count": null,
      "outputs": []
    }
  ]
}